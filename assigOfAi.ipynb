{
  "nbformat": 4,
  "nbformat_minor": 0,
  "metadata": {
    "colab": {
      "provenance": []
    },
    "kernelspec": {
      "name": "python3",
      "display_name": "Python 3"
    },
    "language_info": {
      "name": "python"
    }
  },
  "cells": [
    {
      "cell_type": "markdown",
      "source": [
        "Q1 Write a Python program to determine the largest among three numbers entered by the user."
      ],
      "metadata": {
        "id": "j_vT9zUpG1vQ"
      }
    },
    {
      "cell_type": "code",
      "execution_count": null,
      "metadata": {
        "colab": {
          "base_uri": "https://localhost:8080/"
        },
        "id": "PPd_j2bJGxsx",
        "outputId": "389fdc21-7484-435f-8de7-64cb86163528"
      },
      "outputs": [
        {
          "output_type": "stream",
          "name": "stdout",
          "text": [
            "Enter the first number :9\n",
            "Enter the second number :3\n",
            "Enter the third number :5\n",
            "9  is a largest.\n"
          ]
        }
      ],
      "source": [
        "input1 = int(input(\"Enter the first number :\"))\n",
        "input2 = int(input(\"Enter the second number :\"))\n",
        "input3 = int(input(\"Enter the third number :\"))\n",
        "\n",
        "# largest_number = 0\n",
        "if input1 > input2 and input1>input3:\n",
        "  print(input1, \" is a largest.\")\n",
        "elif input2 >input3 and input2 >input1:\n",
        "  print(input2,\" is a largest number.\")\n",
        "else:\n",
        "  print(input3,\" is the largest number.\")"
      ]
    },
    {
      "cell_type": "markdown",
      "source": [
        "Question 2:\n",
        "\n",
        "Write a Python program to check if a given year is a leap year.\n",
        "\n"
      ],
      "metadata": {
        "id": "HzFfF8tNG27j"
      }
    },
    {
      "cell_type": "code",
      "source": [
        "year = int(input(\"enter the year :\"))\n",
        "\n",
        "if (year%4==0 and year%100!=0) or year%400==0:\n",
        "    print(year , \"is leap year.\")\n",
        "else:\n",
        "    print(year,\"is not leap year.\")\n"
      ],
      "metadata": {
        "colab": {
          "base_uri": "https://localhost:8080/"
        },
        "id": "AuJyHSahHF2r",
        "outputId": "4f0e29d9-ea64-4e3d-c67f-e63b22ff2421"
      },
      "execution_count": null,
      "outputs": [
        {
          "output_type": "stream",
          "name": "stdout",
          "text": [
            "enter the year :2024\n",
            "2024 is leap year.\n"
          ]
        }
      ]
    },
    {
      "cell_type": "markdown",
      "source": [
        "Question 3:\n",
        "\n",
        "Write a Python program to print the following pattern:"
      ],
      "metadata": {
        "id": "sWBwzudcHG8R"
      }
    },
    {
      "cell_type": "code",
      "source": [
        "n = 5\n",
        "for i in range(n+1):\n",
        "  for j in range (i):\n",
        "    print(i, end=\"\")\n",
        "  print()"
      ],
      "metadata": {
        "colab": {
          "base_uri": "https://localhost:8080/"
        },
        "id": "NamEQnvrHQUS",
        "outputId": "fb7aac43-de0c-4c20-c8ed-d66b903b3243"
      },
      "execution_count": null,
      "outputs": [
        {
          "output_type": "stream",
          "name": "stdout",
          "text": [
            "\n",
            "1\n",
            "22\n",
            "333\n",
            "4444\n",
            "55555\n"
          ]
        }
      ]
    },
    {
      "cell_type": "code",
      "source": [
        "# 4\n",
        "n = 5\n",
        "for i in range(n+1):\n",
        "  for j in range(i):\n",
        "    print(\"*\",end='')\n",
        "  print()"
      ],
      "metadata": {
        "colab": {
          "base_uri": "https://localhost:8080/"
        },
        "id": "pH7boiJGO8gC",
        "outputId": "fec01ac5-29a3-4b43-fe20-8c5f4953685b"
      },
      "execution_count": null,
      "outputs": [
        {
          "output_type": "stream",
          "name": "stdout",
          "text": [
            "\n",
            "*\n",
            "**\n",
            "***\n",
            "****\n",
            "*****\n"
          ]
        }
      ]
    },
    {
      "cell_type": "code",
      "source": [
        "# 5\n",
        "n = 5\n",
        "\n",
        "for i in range(n+1):\n",
        "  for j in range(n-i):\n",
        "    print(\" \",end='')\n",
        "  for j in range(i):\n",
        "    print(\"*\",end='')\n",
        "  print()"
      ],
      "metadata": {
        "colab": {
          "base_uri": "https://localhost:8080/"
        },
        "id": "dFS8LKDvPV0c",
        "outputId": "e3f4063c-c37f-4a3f-b8af-1142cdc1c55a"
      },
      "execution_count": null,
      "outputs": [
        {
          "output_type": "stream",
          "name": "stdout",
          "text": [
            "     \n",
            "    *\n",
            "   **\n",
            "  ***\n",
            " ****\n",
            "*****\n"
          ]
        }
      ]
    },
    {
      "cell_type": "markdown",
      "source": [],
      "metadata": {
        "id": "fllM360sdrlp"
      }
    },
    {
      "cell_type": "code",
      "source": [
        "# 6\n",
        "n = 100\n",
        "for num in range(1,n+1):\n",
        "  if num%3==0 and num%5==0:\n",
        "    print(num, \"FizzBuzz\")\n",
        "  elif num%3==0:\n",
        "    print(num, \"Fizz\")\n",
        "  elif num%5==0:\n",
        "    print(num, \"Buzz\")"
      ],
      "metadata": {
        "id": "LdaAlqCZPhvR",
        "colab": {
          "base_uri": "https://localhost:8080/"
        },
        "outputId": "613cdafa-9a3c-4c3f-e079-2923ffe39bee"
      },
      "execution_count": 89,
      "outputs": [
        {
          "output_type": "stream",
          "name": "stdout",
          "text": [
            "3 Fizz\n",
            "5 Buzz\n",
            "6 Fizz\n",
            "9 Fizz\n",
            "10 Buzz\n",
            "12 Fizz\n",
            "15 FizzBuzz\n",
            "18 Fizz\n",
            "20 Buzz\n",
            "21 Fizz\n",
            "24 Fizz\n",
            "25 Buzz\n",
            "27 Fizz\n",
            "30 FizzBuzz\n",
            "33 Fizz\n",
            "35 Buzz\n",
            "36 Fizz\n",
            "39 Fizz\n",
            "40 Buzz\n",
            "42 Fizz\n",
            "45 FizzBuzz\n",
            "48 Fizz\n",
            "50 Buzz\n",
            "51 Fizz\n",
            "54 Fizz\n",
            "55 Buzz\n",
            "57 Fizz\n",
            "60 FizzBuzz\n",
            "63 Fizz\n",
            "65 Buzz\n",
            "66 Fizz\n",
            "69 Fizz\n",
            "70 Buzz\n",
            "72 Fizz\n",
            "75 FizzBuzz\n",
            "78 Fizz\n",
            "80 Buzz\n",
            "81 Fizz\n",
            "84 Fizz\n",
            "85 Buzz\n",
            "87 Fizz\n",
            "90 FizzBuzz\n",
            "93 Fizz\n",
            "95 Buzz\n",
            "96 Fizz\n",
            "99 Fizz\n",
            "100 Buzz\n"
          ]
        }
      ]
    },
    {
      "cell_type": "code",
      "source": [
        "# 7\n",
        "def is_prime(num):\n",
        "    if num <= 1:\n",
        "        return False\n",
        "    for i in range(2, int(num**0.5) + 1):\n",
        "        if num % i == 0:\n",
        "            return False\n",
        "\n",
        "    return True\n",
        "\n",
        "def sum_of_primes(n):\n",
        "    prime_sum = 0\n",
        "    for num in range(2, n + 1):\n",
        "        if is_prime(num):\n",
        "            print(num, end='+')\n",
        "            prime_sum += num\n",
        "    print()\n",
        "    return prime_sum\n",
        "\n",
        "# Example usage:\n",
        "n = int(input(\"Enter a number: \"))\n",
        "print(\"Sum of all prime numbers up to\", n, \"is:\", sum_of_primes(n))\n"
      ],
      "metadata": {
        "id": "2qk4TbVaR77q",
        "colab": {
          "base_uri": "https://localhost:8080/"
        },
        "outputId": "005c815e-9883-4b85-fd4c-805986515914"
      },
      "execution_count": 79,
      "outputs": [
        {
          "output_type": "stream",
          "name": "stdout",
          "text": [
            "Enter a number: 9\n",
            "2+3+5+7+\n",
            "Sum of all prime numbers up to 9 is: 17\n"
          ]
        }
      ]
    },
    {
      "cell_type": "code",
      "source": [
        "# Question 8:\n",
        "# fibonacci series\n",
        "\n",
        "def fibonacci(n, first=0, second=1):\n",
        "  for i in range(n):\n",
        "    if n ==0:\n",
        "      return n\n",
        "    if n ==1:\n",
        "      return n\n",
        "  else:\n",
        "    for j in range(2,n):\n",
        "        third = first + second\n",
        "        first = second\n",
        "        second = third\n",
        "  return third\n",
        "print(fibonacci(9) )"
      ],
      "metadata": {
        "colab": {
          "base_uri": "https://localhost:8080/"
        },
        "id": "eT0M7E40R7uE",
        "outputId": "e8db0aa6-da4e-496d-f715-7f9cf19be830"
      },
      "execution_count": null,
      "outputs": [
        {
          "output_type": "stream",
          "name": "stdout",
          "text": [
            "21\n"
          ]
        }
      ]
    },
    {
      "cell_type": "code",
      "source": [
        "# 9\n",
        "n =5\n",
        "for i in range(n+1):\n",
        "  for j in range(n-i):\n",
        "    print(\" \", end = \"\")\n",
        "  for j in range(i):\n",
        "    print(\"*\", end='')\n",
        "  for j in range(i-1):\n",
        "    print(\"*\",end=\"\")\n",
        "  print(\"\")"
      ],
      "metadata": {
        "colab": {
          "base_uri": "https://localhost:8080/"
        },
        "id": "FWQo3rm_S5Ky",
        "outputId": "24ec509b-99e1-4540-874f-3397080e6cd4"
      },
      "execution_count": null,
      "outputs": [
        {
          "output_type": "stream",
          "name": "stdout",
          "text": [
            "     \n",
            "    *\n",
            "   ***\n",
            "  *****\n",
            " *******\n",
            "*********\n"
          ]
        }
      ]
    },
    {
      "cell_type": "code",
      "source": [
        "# 10\n",
        "\n",
        "n =5\n",
        "for i in range(n+1):\n",
        "  for j in range(n-i):\n",
        "    print(\" \", end = \"\")\n",
        "  for j in range(i):\n",
        "    print(chr(ord('A')+i-1), end='')\n",
        "  for j in range(i-1):\n",
        "    print(chr(ord('A')+i-1),end=\"\")\n",
        "  print(\"\")"
      ],
      "metadata": {
        "id": "92NfEWCxVO2Z",
        "colab": {
          "base_uri": "https://localhost:8080/"
        },
        "outputId": "77cec5aa-db5f-4010-b44a-89eef2542f9d"
      },
      "execution_count": 71,
      "outputs": [
        {
          "output_type": "stream",
          "name": "stdout",
          "text": [
            "     \n",
            "    A\n",
            "   BBB\n",
            "  CCCCC\n",
            " DDDDDDD\n",
            "EEEEEEEEE\n"
          ]
        }
      ]
    },
    {
      "cell_type": "code",
      "source": [],
      "metadata": {
        "id": "e-HsZxiChL51"
      },
      "execution_count": null,
      "outputs": []
    }
  ]
}